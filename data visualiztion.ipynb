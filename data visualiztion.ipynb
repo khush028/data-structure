{
 "cells": [
  {
   "cell_type": "markdown",
   "id": "c24bfe16-ad32-4a35-a091-13e5038f34be",
   "metadata": {},
   "source": [
    "# Data Visualiztion "
   ]
  },
  {
   "cell_type": "code",
   "execution_count": null,
   "id": "4568d0d1-bbbd-4630-91ea-1f9b700718cb",
   "metadata": {
    "scrolled": true
   },
   "outputs": [],
   "source": [
    "import matplotlib.pyplot as plt\n",
    "import pandas as pd \n",
    "import numpy as np\n",
    "import seaborn as sns \n",
    "import datetime as datetime\n",
    "\n",
    "data = pd.read_csv(\"C:\\\\Users\\\\HP\\\\Downloads\\\\householdtask3(1).csv\")\n",
    "data"
   ]
  },
  {
   "cell_type": "markdown",
   "id": "8ffc6240-a082-4da1-b150-c05576194069",
   "metadata": {},
   "source": [
    "# Scatter Plot"
   ]
  },
  {
   "cell_type": "code",
   "execution_count": null,
   "id": "471a2c45-d26d-4bb5-95c3-729ee7f392ab",
   "metadata": {
    "scrolled": true
   },
   "outputs": [],
   "source": [
    "# taking data \n",
    "plt.scatter(data['year'] , data['own'] ,color = 'black' , label = 'year aganist own') \n",
    "\n",
    "# adding title \n",
    "plt.title(\"Scatter Chart\")\n",
    "\n",
    "# adding labels \n",
    "plt.xlabel(\"year\")\n",
    "plt.ylabel(\"own\")\n",
    "\n",
    "# legends \n",
    "plt.legend( )\n",
    "\n",
    "plt.show()"
   ]
  },
  {
   "cell_type": "markdown",
   "id": "760516ee-87eb-42c9-9996-a9fe706ab5f0",
   "metadata": {},
   "source": [
    "# Line Chart"
   ]
  },
  {
   "cell_type": "code",
   "execution_count": null,
   "id": "f0e2362b-e1a7-4d71-b663-766f2c488e3e",
   "metadata": {},
   "outputs": [],
   "source": [
    "# taking data  maker , markerfacecolor \n",
    "plt.plot(data['year'] , label = 'year' )\n",
    "plt.plot(data['own'] , marker = 'o' , markerfacecolor = 'black' , label = 'own')\n",
    "\n",
    "\n",
    "# adding title \n",
    "plt.title(\"Line Chart\")\n",
    "\n",
    "# adding label \n",
    "plt.xlabel('year')\n",
    "plt.ylabel('own')\n",
    "\n",
    "# addind legend\n",
    "plt.legend( loc = 'upper right')\n",
    "\n",
    "# to show\n",
    "plt.show()\n",
    "\n",
    "\n"
   ]
  },
  {
   "cell_type": "markdown",
   "id": "96f5115c-d19d-4967-ab65-78a4a171c87d",
   "metadata": {},
   "source": [
    "# Bar Chart \n"
   ]
  },
  {
   "cell_type": "code",
   "execution_count": null,
   "id": "310a66fc-98b3-4a8a-8dc8-246b02f1a873",
   "metadata": {},
   "outputs": [],
   "source": [
    "# taking data  and color \n",
    "plt.bar(data['year'] , data['own'] , label = 'year and own relationship' , color = 'green' )\n",
    "\n",
    "# title \n",
    "plt.title(\"Bar Chart\")\n",
    "\n",
    "# labeling \n",
    "plt.xlabel(\"year\")\n",
    "plt.ylabel(\"own\")\n",
    "\n",
    "# legend \n",
    "plt.legend( loc = 'upper right')\n",
    "\n",
    "# show \n",
    "plt.show()"
   ]
  },
  {
   "cell_type": "markdown",
   "id": "710fe635-f8d0-4702-8950-23fb567edd0f",
   "metadata": {},
   "source": [
    "#  Histogram"
   ]
  },
  {
   "cell_type": "code",
   "execution_count": null,
   "id": "3fd685a4-d044-49d2-84a5-c538b7f213fc",
   "metadata": {},
   "outputs": [],
   "source": [
    "# taking data \n",
    "plt.hist(data['income'])\n",
    "\n",
    "# adding title \n",
    "plt.title(\"Histogram\")\n",
    "\n",
    "# show \n",
    "plt.show()"
   ]
  },
  {
   "cell_type": "code",
   "execution_count": null,
   "id": "efb16c62-d902-42f8-ba00-ecf5a980d876",
   "metadata": {},
   "outputs": [],
   "source": []
  }
 ],
 "metadata": {
  "kernelspec": {
   "display_name": "Python 3 (ipykernel)",
   "language": "python",
   "name": "python3"
  },
  "language_info": {
   "codemirror_mode": {
    "name": "ipython",
    "version": 3
   },
   "file_extension": ".py",
   "mimetype": "text/x-python",
   "name": "python",
   "nbconvert_exporter": "python",
   "pygments_lexer": "ipython3",
   "version": "3.11.5"
  }
 },
 "nbformat": 4,
 "nbformat_minor": 5
}
