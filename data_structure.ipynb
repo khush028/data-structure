{
 "cells": [
  {
   "cell_type": "code",
   "execution_count": 9,
   "id": "a5756558-3f53-43f1-a2ca-25f7f05448d0",
   "metadata": {
    "scrolled": true
   },
   "outputs": [
    {
     "name": "stdout",
     "output_type": "stream",
     "text": [
      "[62, 56, 96, 'apple']\n",
      "[62, 56, 96, 'apple', 50]\n",
      "[62, 56, 96, 'main', 'apple', 50]\n",
      "[62, 56, 96, 'main', 'apple', 50, 56, 23]\n",
      "[62, 56, 96, 'apple', 50, 56, 23]\n",
      "[62, 56, 96, 'apple', 50, 56]\n",
      "[62, 96, 'apple', 50, 56]\n",
      "[62, 96, 'apple', 50]\n",
      "['technology', 96, 'apple', 50]\n",
      "['technology', 96, 'khush', 'kartik']\n"
     ]
    }
   ],
   "source": [
    "# DATA STRUCTURE IN PYTHON\n",
    "# CREATING A LIST\n",
    "\n",
    "my_list =[62,56,96,'apple']\n",
    "print(my_list)\n",
    "\n",
    "# adding a number in a list \n",
    "my_list.append(50)    \n",
    "print(my_list)\n",
    "\n",
    "my_list.insert(3,\"main\")\n",
    "print(my_list)\n",
    "\n",
    "#extend a list\n",
    "my_list1=[56,23]\n",
    "my_list.extend(my_list1)\n",
    "print(my_list)\n",
    "\n",
    "#removing a element from a list \n",
    "my_list.remove(\"main\")\n",
    "print(my_list)\n",
    "\n",
    "my_list.pop()\n",
    "print(my_list)\n",
    "\n",
    "my_list.pop(1)\n",
    "print(my_list)\n",
    "\n",
    "del my_list[4]\n",
    "print(my_list)\n",
    "\n",
    "# modifying a list\n",
    "my_list[0]='technology'\n",
    "print(my_list)\n",
    "\n",
    "my_list[2:4]=['khush','kartik']\n",
    "print(my_list)"
   ]
  },
  {
   "cell_type": "code",
   "execution_count": 9,
   "id": "5ecf1517-13ee-4f22-a666-f5ae4bacd02f",
   "metadata": {
    "scrolled": true
   },
   "outputs": [
    {
     "name": "stdout",
     "output_type": "stream",
     "text": [
      "[62, 56, 96, 'apple']\n",
      "[62, 56, 96, 'apple', 50]\n",
      "[62, 56, 96, 'main', 'apple', 50]\n",
      "[62, 56, 96, 'main', 'apple', 50, 56, 23]\n",
      "[62, 56, 96, 'apple', 50, 56, 23]\n",
      "[62, 56, 96, 'apple', 50, 56]\n",
      "[62, 96, 'apple', 50, 56]\n",
      "[62, 96, 'apple', 50]\n",
      "['technology', 96, 'apple', 50]\n",
      "['technology', 96, 'khush', 'kartik']\n"
     ]
    }
   ],
   "source": [
    "# DATA STRUCTURE IN PYTHON\n",
    "# CREATING A LIST\n",
    "\n",
    "my_list =[62,56,96,'apple']\n",
    "print(my_list)\n",
    "\n",
    "# adding a number in a list \n",
    "my_list.append(50)    \n",
    "print(my_list)\n",
    "\n",
    "my_list.insert(3,\"main\")\n",
    "print(my_list)\n",
    "\n",
    "#extend a list\n",
    "my_list1=[56,23]\n",
    "my_list.extend(my_list1)\n",
    "print(my_list)\n",
    "\n",
    "#removing a element from a list \n",
    "my_list.remove(\"main\")\n",
    "print(my_list)\n",
    "\n",
    "my_list.pop()\n",
    "print(my_list)\n",
    "\n",
    "my_list.pop(1)\n",
    "print(my_list)\n",
    "\n",
    "del my_list[4]\n",
    "print(my_list)\n",
    "\n",
    "# modifying a list\n",
    "my_list[0]='technology'\n",
    "print(my_list)\n",
    "\n",
    "my_list[2:4]=['khush','kartik']\n",
    "print(my_list)"
   ]
  },
  {
   "cell_type": "code",
   "execution_count": 20,
   "id": "3e1249e7-c433-4b35-892b-1dbdb16cd04e",
   "metadata": {},
   "outputs": [
    {
     "name": "stdout",
     "output_type": "stream",
     "text": [
      "{'name': 'khushbu', 'city': 'jaipur', 'phone': 4541686952}\n",
      "None\n",
      "dict_keys(['name', 'city', 'phone'])\n",
      "dict_values(['khushbu', 'jaipur', 4541686952])\n",
      "dict_items([('name', 'khushbu'), ('city', 'jaipur'), ('phone', 4541686952)])\n",
      "{'name': 'main flow'}\n"
     ]
    }
   ],
   "source": [
    "# creating a dictionary\n",
    "my_dict = {'name':\"khushbu\",'city':\"jaipur\" , \"phone\":4541686952}\n",
    "print(my_dict)\n",
    "\n",
    "# for getting a element from dictionary\n",
    "print(my_dict.get(1))\n",
    "\n",
    "#for only key value \n",
    "print(my_dict.keys())\n",
    "\n",
    "#for values\n",
    "print(my_dict.values())\n",
    "\n",
    "#for items\n",
    "print(my_dict.items())\n",
    "\n",
    "#for removing\n",
    "del my_dict[\"city\"]\n",
    "my_dict.pop(\"phone\")\n",
    "#print(my_dict.clear())\n",
    "\n",
    "#modifying\n",
    "my_dict[\"name\"]='main flow'\n",
    "print(my_dict)\n"
   ]
  },
  {
   "cell_type": "code",
   "execution_count": 22,
   "id": "3e74293e-e831-48df-b38e-305bb5a6c369",
   "metadata": {},
   "outputs": [
    {
     "name": "stdout",
     "output_type": "stream",
     "text": [
      "{1, 98, 56, 'laugh', 'khushbu'}\n",
      "{1, 98, 'king', 56, 'laugh', 'khushbu'}\n",
      "{1, 98, 'king', 56, 'laugh'}\n",
      "{1, 98, 'king', 'laugh'}\n"
     ]
    }
   ],
   "source": [
    "# creatin a set\n",
    "my_set ={\"khushbu\",1,\"laugh\",56,98}\n",
    "print(my_set)\n",
    "\n",
    "# adding a element in a set\n",
    "my_set.add(\"king\")\n",
    "print(my_set)\n",
    "\n",
    "#removing  a element from a set\n",
    "my_set.remove(\"khushbu\")\n",
    "print(my_set)\n",
    "\n",
    "my_set.discard(56)\n",
    "print(my_set)\n",
    "\n",
    "my_set.pop()\n",
    "my_set.clear()\n",
    "del my_set \n",
    "\n",
    "\n",
    "\n"
   ]
  },
  {
   "cell_type": "code",
   "execution_count": null,
   "id": "30942d5b-f92e-408e-8408-84efcf25cb36",
   "metadata": {},
   "outputs": [],
   "source": []
  }
 ],
 "metadata": {
  "kernelspec": {
   "display_name": "Python 3 (ipykernel)",
   "language": "python",
   "name": "python3"
  },
  "language_info": {
   "codemirror_mode": {
    "name": "ipython",
    "version": 3
   },
   "file_extension": ".py",
   "mimetype": "text/x-python",
   "name": "python",
   "nbconvert_exporter": "python",
   "pygments_lexer": "ipython3",
   "version": "3.11.5"
  }
 },
 "nbformat": 4,
 "nbformat_minor": 5
}
